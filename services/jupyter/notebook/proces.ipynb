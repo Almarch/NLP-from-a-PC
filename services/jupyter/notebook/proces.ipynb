{
 "cells": [
  {
   "cell_type": "markdown",
   "id": "aaf0d600-2b6d-4b58-9862-778917fe1a65",
   "metadata": {},
   "source": [
    "# Collect all data form our trial"
   ]
  },
  {
   "cell_type": "code",
   "execution_count": 1,
   "id": "c5f9b3ae-27c6-4b2b-948b-e22aabddaaeb",
   "metadata": {},
   "outputs": [
    {
     "name": "stdout",
     "output_type": "stream",
     "text": [
      "{'.pdf': 66, '.xlsx': 1}\n",
      "{'.pdf': 66}\n"
     ]
    }
   ],
   "source": [
    "from Resource import Resource\n",
    "import os\n",
    "\n",
    "all_res = []\n",
    "for root, _, files in os.walk(\"data\"):\n",
    "    for name in files:\n",
    "        all_res.append(os.path.join(root, name))\n",
    "\n",
    "extension_counts = {}\n",
    "for file in all_res:\n",
    "    ext = os.path.splitext(file)[1].lower()\n",
    "    if ext in extension_counts:\n",
    "        extension_counts[ext] += 1\n",
    "    else:\n",
    "        extension_counts[ext] = 1\n",
    "print(extension_counts)\n",
    "\n",
    "all_res = [file for file in all_res if os.path.splitext(file)[1].lower() == '.pdf']\n",
    "\n",
    "extension_counts = {}\n",
    "for file in all_res:\n",
    "    ext = os.path.splitext(file)[1].lower()\n",
    "    if ext in extension_counts:\n",
    "        extension_counts[ext] += 1\n",
    "    else:\n",
    "        extension_counts[ext] = 1\n",
    "print(extension_counts)   "
   ]
  },
  {
   "cell_type": "code",
   "execution_count": 2,
   "id": "1dfc7859-0198-4c97-825e-0883b11eaa32",
   "metadata": {},
   "outputs": [
    {
     "name": "stdout",
     "output_type": "stream",
     "text": [
      "2 pages have been scanned\n",
      "Stored in the database\n"
     ]
    }
   ],
   "source": [
    "res = Resource(all_res[4])"
   ]
  },
  {
   "cell_type": "code",
   "execution_count": null,
   "id": "8e161bb0-2a25-498c-96b5-446f339f8522",
   "metadata": {},
   "outputs": [],
   "source": [
    "print(res.full_text)"
   ]
  },
  {
   "cell_type": "code",
   "execution_count": null,
   "id": "5e9f02d2-47b1-467d-adc4-48c05c442fd3",
   "metadata": {},
   "outputs": [],
   "source": [
    "print(res.full_description)"
   ]
  },
  {
   "cell_type": "code",
   "execution_count": null,
   "id": "cb37d348-ca67-4ec5-8b9d-1059206d2c06",
   "metadata": {},
   "outputs": [],
   "source": [
    "print(res.synthese)"
   ]
  },
  {
   "cell_type": "code",
   "execution_count": 6,
   "id": "4e45f7b1-a0a4-4cbe-8de3-5b3231b32c57",
   "metadata": {},
   "outputs": [
    {
     "name": "stdout",
     "output_type": "stream",
     "text": [
      "['rag']\n",
      "[]\n"
     ]
    }
   ],
   "source": [
    "import chromadb\n",
    "\n",
    "client = chromadb.HttpClient(host = \"chroma\", port = 8000)\n",
    "print(client.list_collections())\n",
    "\n",
    "client.delete_collection(\"rag\")\n",
    "print(client.list_collections())"
   ]
  }
 ],
 "metadata": {
  "kernelspec": {
   "display_name": "Python 3 (ipykernel)",
   "language": "python",
   "name": "python3"
  },
  "language_info": {
   "codemirror_mode": {
    "name": "ipython",
    "version": 3
   },
   "file_extension": ".py",
   "mimetype": "text/x-python",
   "name": "python",
   "nbconvert_exporter": "python",
   "pygments_lexer": "ipython3",
   "version": "3.11.6"
  }
 },
 "nbformat": 4,
 "nbformat_minor": 5
}
